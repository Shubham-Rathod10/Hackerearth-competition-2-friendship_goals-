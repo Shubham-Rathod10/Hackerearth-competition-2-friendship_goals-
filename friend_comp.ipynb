{
  "nbformat": 4,
  "nbformat_minor": 0,
  "metadata": {
    "colab": {
      "name": "friend_comp.ipynb",
      "provenance": []
    },
    "kernelspec": {
      "name": "python3",
      "display_name": "Python 3"
    },
    "accelerator": "GPU"
  },
  "cells": [
    {
      "cell_type": "markdown",
      "metadata": {
        "id": "BH2cP27lTleS",
        "colab_type": "text"
      },
      "source": [
        "#Importing in drive direct from kaggle"
      ]
    },
    {
      "cell_type": "code",
      "metadata": {
        "id": "LwcjoW9Iu9yE",
        "colab_type": "code",
        "colab": {
          "base_uri": "https://localhost:8080/",
          "height": 125
        },
        "outputId": "10495013-71b8-49cc-850d-8fa20693f711"
      },
      "source": [
        "'''from google.colab import drive\n",
        "drive.mount('/content/gdrive')'''"
      ],
      "execution_count": null,
      "outputs": [
        {
          "output_type": "stream",
          "text": [
            "Go to this URL in a browser: https://accounts.google.com/o/oauth2/auth?client_id=947318989803-6bn6qk8qdgf4n4g3pfee6491hc0brc4i.apps.googleusercontent.com&redirect_uri=urn%3aietf%3awg%3aoauth%3a2.0%3aoob&scope=email%20https%3a%2f%2fwww.googleapis.com%2fauth%2fdocs.test%20https%3a%2f%2fwww.googleapis.com%2fauth%2fdrive%20https%3a%2f%2fwww.googleapis.com%2fauth%2fdrive.photos.readonly%20https%3a%2f%2fwww.googleapis.com%2fauth%2fpeopleapi.readonly&response_type=code\n",
            "\n",
            "Enter your authorization code:\n",
            "··········\n",
            "Mounted at /content/gdrive\n"
          ],
          "name": "stdout"
        }
      ]
    },
    {
      "cell_type": "code",
      "metadata": {
        "id": "WgTrBJ7FvqRj",
        "colab_type": "code",
        "colab": {}
      },
      "source": [
        "'''import os\n",
        "os.environ['KAGGLE_CONFIG_DIR'] = \"/content/gdrive/My Drive/Kaggle\"\n",
        "# /content/gdrive/My Drive/Kaggle is the path where kaggle.json is present in the Google Drive\n",
        "#changing the working directory\n",
        "%cd /content/gdrive/My Drive/Kaggle\n",
        "#Check the present working directory using pwd command\n",
        "!kaggle datasets download -d bing101/friendshipgoals'''"
      ],
      "execution_count": null,
      "outputs": []
    },
    {
      "cell_type": "markdown",
      "metadata": {
        "id": "oDwF7oA_TsBk",
        "colab_type": "text"
      },
      "source": [
        "#Dataset Link for downloading\n",
        "https://www.kaggle.com/bing101/friendshipgoals/download"
      ]
    },
    {
      "cell_type": "markdown",
      "metadata": {
        "id": "oYEWY-biT1Uk",
        "colab_type": "text"
      },
      "source": [
        "#Importing Essential Libraries"
      ]
    },
    {
      "cell_type": "code",
      "metadata": {
        "id": "4tqz0cMpDm8o",
        "colab_type": "code",
        "colab": {}
      },
      "source": [
        "import os\n",
        "import zipfile\n",
        "import numpy as np\n",
        "import matplotlib.pyplot as plt\n",
        "import tensorflow as tf\n",
        "from tqdm import tqdm_notebook\n",
        "from tensorflow.keras.preprocessing.image import ImageDataGenerator,load_img,img_to_array,array_to_img\n",
        " \n",
        "%matplotlib inline\n",
        "from scipy.stats import norm\n",
        "import tensorflow.keras.backend as K\n",
        "from tensorflow.keras.layers import Dense,Layer,Lambda,Add,Multiply,Input,Conv2D,MaxPool2D,Flatten,Conv2DTranspose,Reshape,Dropout,GlobalAveragePooling2D,GaussianNoise\n",
        "from tensorflow.keras.models import Sequential,Model\n",
        "from tensorflow.keras.utils import plot_model\n",
        "from PIL import Image\n",
        "from tensorflow.keras.callbacks import EarlyStopping\n",
        "from tensorflow.keras.losses import mse\n",
        "import pandas as pd\n",
        "import shutil\n",
        "from tensorflow.keras.applications.resnet_v2 import ResNet50V2,preprocess_input"
      ],
      "execution_count": null,
      "outputs": []
    },
    {
      "cell_type": "markdown",
      "metadata": {
        "id": "O2pZP73zT50A",
        "colab_type": "text"
      },
      "source": [
        "#Unzipping Dataset"
      ]
    },
    {
      "cell_type": "code",
      "metadata": {
        "id": "usPCt9UNwV5x",
        "colab_type": "code",
        "colab": {}
      },
      "source": [
        "'''dataset_path = \"/content/drive/My Drive/Kaggle/friendshipgoals.zip\"\n",
        "zip_object = zipfile.ZipFile(file=dataset_path, mode=\"r\")\n",
        "zip_object.extractall(\"/content/drive/My Drive/Kaggle\")\n",
        "zip_object.close()'''"
      ],
      "execution_count": null,
      "outputs": []
    },
    {
      "cell_type": "markdown",
      "metadata": {
        "id": "yOQYDJItT9fD",
        "colab_type": "text"
      },
      "source": [
        "#Assigning paths towards directories"
      ]
    },
    {
      "cell_type": "code",
      "metadata": {
        "id": "IwpmNcbtEt82",
        "colab_type": "code",
        "colab": {}
      },
      "source": [
        "train_path = \"/content/drive/My Drive/Kaggle/data/train\"\n",
        "test_path = \"/content/drive/My Drive/Kaggle/data/test_out\"\n",
        "validate_path = \"/content/drive/My Drive/Kaggle/data/validate\""
      ],
      "execution_count": null,
      "outputs": []
    },
    {
      "cell_type": "markdown",
      "metadata": {
        "id": "XeE_VKVzUGBb",
        "colab_type": "text"
      },
      "source": [
        "# Run Once to segregate 20% of train set to validate set"
      ]
    },
    {
      "cell_type": "code",
      "metadata": {
        "id": "vOPPspR5bAux",
        "colab_type": "code",
        "colab": {}
      },
      "source": [
        "'''\n",
        "#(((To shift from train folder to validate folder)))\n",
        "adu_shift = os.listdir(train_path+\"/Adults\")\n",
        "size = int(0.2*len(adu_shift))\n",
        "for f in adu_shift[:size]:\n",
        "    shutil.move(train_path+\"/Adults/\"+f,validate_path+\"/Adults\")\n",
        "\n",
        "teen_shift = os.listdir(train_path+\"/Teenagers\")\n",
        "size = int(0.2*len(teen_shift))\n",
        "for f in teen_shift[:size]:\n",
        "    shutil.move(train_path+\"/Teenagers/\"+f,validate_path+\"/Teenagers\")\n",
        "\n",
        "tod_shift = os.listdir(train_path+\"/Toddler\")\n",
        "size = int(0.2*len(tod_shift))\n",
        "for f in tod_shift[:size]:\n",
        "    shutil.move(train_path+\"/Toddler/\"+f,validate_path+\"/Toddler\")'''"
      ],
      "execution_count": null,
      "outputs": []
    },
    {
      "cell_type": "markdown",
      "metadata": {
        "id": "fALw1wrwUPGk",
        "colab_type": "text"
      },
      "source": [
        "#Run to push_back validate set images back to train set"
      ]
    },
    {
      "cell_type": "code",
      "metadata": {
        "id": "iw-iCdFAjx8k",
        "colab_type": "code",
        "colab": {}
      },
      "source": [
        "'''\n",
        "# To shift from validate folder back to test folder\n",
        "adu_shift = os.listdir(\"/content/drive/My Drive/Kaggle/data/validate/Adults/\")\n",
        "for f in adu_shift:\n",
        "    shutil.move(validate_path+\"/Adults/\"+f,train_path+\"/Adults\")\n",
        "teen_shift = os.listdir(\"/content/drive/My Drive/Kaggle/data/validate/Teenagers/\")\n",
        "for f in teen_shift:\n",
        "    shutil.move(validate_path+\"/Teenagers/\"+f,train_path+\"/Teenagers\")\n",
        "tod_shift = os.listdir(\"/content/drive/My Drive/Kaggle/data/validate/Toddler/\")\n",
        "for f in tod_shift:\n",
        "    shutil.move(validate_path+\"/Toddler/\"+f,train_path+\"/Toddler\")\n",
        "'''"
      ],
      "execution_count": null,
      "outputs": []
    },
    {
      "cell_type": "markdown",
      "metadata": {
        "id": "sHibhnRhUWjk",
        "colab_type": "text"
      },
      "source": [
        "#Label Encoding the Images\n",
        "```\n",
        "e.g.\n",
        "Adults - 0,\n",
        "Teenagers - 1,\n",
        "Toddler - 2.\n",
        "```"
      ]
    },
    {
      "cell_type": "code",
      "metadata": {
        "id": "rtai3O8eFyIz",
        "colab_type": "code",
        "colab": {
          "base_uri": "https://localhost:8080/",
          "height": 34
        },
        "outputId": "3d16a473-6bba-4a46-b77e-53274a02d96c"
      },
      "source": [
        "lst = ['Adults','Teenagers','Toddler']\n",
        "from sklearn.preprocessing import LabelEncoder\n",
        "LE = LabelEncoder()\n",
        "LE.fit(lst)"
      ],
      "execution_count": null,
      "outputs": [
        {
          "output_type": "execute_result",
          "data": {
            "text/plain": [
              "LabelEncoder()"
            ]
          },
          "metadata": {
            "tags": []
          },
          "execution_count": 4
        }
      ]
    },
    {
      "cell_type": "markdown",
      "metadata": {
        "id": "7VCERd3EUafm",
        "colab_type": "text"
      },
      "source": [
        "#Initializing ImageDataGenerator for all train,test,validate"
      ]
    },
    {
      "cell_type": "code",
      "metadata": {
        "id": "fUazlfP7HyoD",
        "colab_type": "code",
        "colab": {}
      },
      "source": [
        "data_gen_train = ImageDataGenerator(\n",
        "    rotation_range=20,\n",
        "    width_shift_range=0.2,\n",
        "    height_shift_range=0.2,\n",
        "    horizontal_flip=True,\n",
        "    preprocessing_function = preprocess_input)\n",
        "data_gen_valid = ImageDataGenerator(\n",
        "    preprocessing_function = preprocess_input)\n",
        "data_gen_test = ImageDataGenerator(\n",
        "    preprocessing_function = preprocess_input)"
      ],
      "execution_count": null,
      "outputs": []
    },
    {
      "cell_type": "code",
      "metadata": {
        "id": "t0xr80nWHyth",
        "colab_type": "code",
        "colab": {
          "base_uri": "https://localhost:8080/",
          "height": 70
        },
        "outputId": "33c0ca86-68e4-4c11-94cd-156cfda5e85a"
      },
      "source": [
        "train_generator = data_gen_train.flow_from_directory(train_path, target_size=(256,256), class_mode='categorical', batch_size=32)\n",
        "validation_generator = data_gen_valid.flow_from_directory(validate_path, target_size=(256,256), class_mode='categorical',batch_size=32)\n",
        "test_generator = data_gen_test.flow_from_directory(test_path, target_size=(256,256),class_mode=None,shuffle=False)"
      ],
      "execution_count": null,
      "outputs": [
        {
          "output_type": "stream",
          "text": [
            "Found 2243 images belonging to 3 classes.\n",
            "Found 560 images belonging to 3 classes.\n",
            "Found 314 images belonging to 1 classes.\n"
          ],
          "name": "stdout"
        }
      ]
    },
    {
      "cell_type": "markdown",
      "metadata": {
        "id": "EIlTQJz4UnpE",
        "colab_type": "text"
      },
      "source": [
        "#Initializing base_model"
      ]
    },
    {
      "cell_type": "code",
      "metadata": {
        "id": "In_bxFX6G7SE",
        "colab_type": "code",
        "colab": {}
      },
      "source": [
        "img_shape = (256,256,3)\n",
        "fine_tune_at = 185\n",
        "base_model = ResNet50V2(include_top=False,weights='imagenet',input_shape=img_shape )\n",
        "base_model.trainable = True\n",
        "for layer in base_model.layers[:fine_tune_at]:\n",
        "    layer.trainable = False"
      ],
      "execution_count": null,
      "outputs": []
    },
    {
      "cell_type": "markdown",
      "metadata": {
        "id": "j-xoc1OWVI5A",
        "colab_type": "text"
      },
      "source": [
        "#Adding extra layers and creating final Model"
      ]
    },
    {
      "cell_type": "code",
      "metadata": {
        "id": "7kCQPT9bHQTL",
        "colab_type": "code",
        "colab": {}
      },
      "source": [
        "global_average_layer = GlobalAveragePooling2D()(base_model.output)\n",
        "lay_1 = Dense(units=64, activation='relu')(global_average_layer)\n",
        "d1 = Dropout(0.2)(lay_1)\n",
        "lay_2 = Dense(units=32, activation='relu')(d1)\n",
        "d2 = Dropout(0.2)(lay_2)\n",
        "prediction_layer = Dense(units=3, activation='softmax')(d2)\n",
        "model = Model(inputs=base_model.input, outputs=prediction_layer)"
      ],
      "execution_count": null,
      "outputs": []
    },
    {
      "cell_type": "code",
      "metadata": {
        "id": "M0tXH7qiBdRP",
        "colab_type": "code",
        "colab": {}
      },
      "source": [
        "model.compile(optimizer=tf.keras.optimizers.Adam(lr=0.0001), loss=\"categorical_crossentropy\", metrics=[\"accuracy\"])"
      ],
      "execution_count": null,
      "outputs": []
    },
    {
      "cell_type": "markdown",
      "metadata": {
        "id": "fH-ra59EVl31",
        "colab_type": "text"
      },
      "source": [
        "#Model fitting"
      ]
    },
    {
      "cell_type": "code",
      "metadata": {
        "id": "bBhjOLaRHyrS",
        "colab_type": "code",
        "colab": {}
      },
      "source": [
        "history = model.fit(train_generator, epochs=10,steps_per_epoch=30,validation_data = validation_generator)"
      ],
      "execution_count": null,
      "outputs": []
    },
    {
      "cell_type": "markdown",
      "metadata": {
        "id": "2cGy4ow-Vp-k",
        "colab_type": "text"
      },
      "source": [
        "#Model Prediction and to_csv file write"
      ]
    },
    {
      "cell_type": "code",
      "metadata": {
        "id": "uFstOlTyyuDk",
        "colab_type": "code",
        "colab": {}
      },
      "source": [
        "ans = model.predict(test_generator)\n",
        "solution_index = np.argmax(ans,axis=1)\n",
        "names = os.listdir(test_path+'/test')\n",
        "\n",
        "match = {}\n",
        "for i,x in enumerate(names):\n",
        "    match[x] = LE.inverse_transform([solution_index[i] ])[0]\n",
        "\n",
        "labels = pd.read_csv('/content/drive/My Drive/Kaggle/data/Test.csv')\n",
        "img_names = labels.iloc[:,:].values\n",
        "img_names = img_names.reshape(-1,)\n",
        "\n",
        "frame = []\n",
        "for x in img_names:\n",
        "    frame.append([x,match[x]])\n",
        "\n",
        "df = pd.DataFrame(frame,columns=[\"Filename\",\"Category\"])\n",
        "letgo = df.to_csv('./pred1.csv',index=False)"
      ],
      "execution_count": null,
      "outputs": []
    }
  ]
}